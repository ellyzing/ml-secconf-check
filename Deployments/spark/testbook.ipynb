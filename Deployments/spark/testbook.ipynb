{
 "cells": [
  {
   "cell_type": "code",
   "execution_count": 1,
   "metadata": {},
   "outputs": [],
   "source": [
    "from pyspark.sql import SparkSession\n",
    "from pyspark.ml import Pipeline\n",
    "from pyspark.ml.feature import StringIndexer, StringIndexerModel\n",
    "from pyspark.ml.pipeline import PipelineModel\n",
    "from pyspark.ml.feature import VectorAssembler\n",
    "from pyspark.ml.classification import RandomForestClassifier\n",
    "from pyspark.ml.evaluation import MulticlassClassificationEvaluator\n",
    "from pyspark.ml import Transformer\n",
    "\n",
    "from pyspark.sql.types import StringType\n",
    "\n",
    "import mlflow\n",
    "from mlflow.tracking import MlflowClient"
   ]
  },
  {
   "cell_type": "code",
   "execution_count": 2,
   "metadata": {},
   "outputs": [
    {
     "name": "stderr",
     "output_type": "stream",
     "text": [
      "WARNING: An illegal reflective access operation has occurred\n",
      "WARNING: Illegal reflective access by org.apache.spark.unsafe.Platform (file:/Users/coalyonysh/Library/Python/3.9/lib/python/site-packages/pyspark/jars/spark-unsafe_2.12-3.1.2.jar) to constructor java.nio.DirectByteBuffer(long,int)\n",
      "WARNING: Please consider reporting this to the maintainers of org.apache.spark.unsafe.Platform\n",
      "WARNING: Use --illegal-access=warn to enable warnings of further illegal reflective access operations\n",
      "WARNING: All illegal access operations will be denied in a future release\n",
      "24/05/12 22:30:01 WARN NativeCodeLoader: Unable to load native-hadoop library for your platform... using builtin-java classes where applicable\n",
      "Using Spark's default log4j profile: org/apache/spark/log4j-defaults.properties\n",
      "Setting default log level to \"WARN\".\n",
      "To adjust logging level use sc.setLogLevel(newLevel). For SparkR, use setLogLevel(newLevel).\n"
     ]
    }
   ],
   "source": [
    "spark = SparkSession.builder.appName(\"PySparkTitanikJob\")\\\n",
    "    .getOrCreate()"
   ]
  },
  {
   "cell_type": "code",
   "execution_count": 3,
   "metadata": {},
   "outputs": [
    {
     "data": {
      "text/html": [
       "\n",
       "            <div>\n",
       "                <p><b>SparkSession - in-memory</b></p>\n",
       "                \n",
       "        <div>\n",
       "            <p><b>SparkContext</b></p>\n",
       "\n",
       "            <p><a href=\"http://192.168.1.105:4040\">Spark UI</a></p>\n",
       "\n",
       "            <dl>\n",
       "              <dt>Version</dt>\n",
       "                <dd><code>v3.1.2</code></dd>\n",
       "              <dt>Master</dt>\n",
       "                <dd><code>local[*]</code></dd>\n",
       "              <dt>AppName</dt>\n",
       "                <dd><code>PySparkTitanikJob</code></dd>\n",
       "            </dl>\n",
       "        </div>\n",
       "        \n",
       "            </div>\n",
       "        "
      ],
      "text/plain": [
       "<pyspark.sql.session.SparkSession at 0x1661d4c10>"
      ]
     },
     "execution_count": 3,
     "metadata": {},
     "output_type": "execute_result"
    }
   ],
   "source": [
    "spark"
   ]
  },
  {
   "cell_type": "code",
   "execution_count": 4,
   "metadata": {},
   "outputs": [
    {
     "data": {
      "text/plain": [
       "<ActiveRun: >"
      ]
     },
     "execution_count": 4,
     "metadata": {},
     "output_type": "execute_result"
    }
   ],
   "source": [
    "mlflow.start_run()"
   ]
  },
  {
   "cell_type": "code",
   "execution_count": 10,
   "metadata": {},
   "outputs": [],
   "source": [
    "from pyspark.sql.functions import split, col\n",
    "df = spark.read.parquet('../part.0.parquet')\n",
    "#df2 = df.withColumn(\"dangerous_commands\", split(col(\"dangerous_commands\"), \",\").cast(\"array<string>\"))\n",
    "tag_index = StringIndexer(inputCol='tag', outputCol=\"image_tag_index\")\n",
    "user_index = StringIndexer(inputCol='user', outputCol=\"user_index\")\n",
    "image_index = StringIndexer(inputCol='image', outputCol=\"image_index\")\n",
    "qos_index = StringIndexer(inputCol='qos', outputCol=\"qos_index\")\n",
    "\n",
    "df = tag_index.fit(df).transform(df)\n",
    "df = user_index.fit(df).transform(df)\n",
    "df = image_index.fit(df).transform(df)\n",
    "\n",
    "df = qos_index.fit(df).transform(df)\n"
   ]
  },
  {
   "cell_type": "code",
   "execution_count": 11,
   "metadata": {},
   "outputs": [
    {
     "name": "stdout",
     "output_type": "stream",
     "text": [
      "+-----------+-------+-------+-------------------------------+-----------------------+--------------------+---+-------------------+--------------------------------+-------------------------+----------------------+--------------------+-------------+--------------------+--------------------+--------------------+----+----------+------+---------------+----------+-----------+---------+\n",
      "|hostNetwork|hostPID|hostIPC|has_privileged_security_context|count_of_dangerous_caps|                user|UID|has_mounted_secrets|has_secret_environment_variables|read_only_root_fs_checker|has_dangerous_commands|count_dangerous_dirs|exposed_ports|               image|                 tag|has_wide_permissions| qos|has_probes|result|image_tag_index|user_index|image_index|qos_index|\n",
      "+-----------+-------+-------+-------------------------------+-----------------------+--------------------+---+-------------------+--------------------------------+-------------------------+----------------------+--------------------+-------------+--------------------+--------------------+--------------------+----+----------+------+---------------+----------+-----------+---------+\n",
      "|      false|  false|  false|                          false|                      0|                None|  0|              false|                           false|                    false|                 false|                   0|            0|                None|              latest|                true|None|     false|     1|            0.0|       0.0|        0.0|      0.0|\n",
      "|      false|  false|  false|                          false|                      0|                None|  0|              false|                           false|                    false|                 false|                   0|           80|                None|              latest|                true|None|     false|     0|            0.0|       0.0|        0.0|      0.0|\n",
      "|      false|  false|  false|                          false|                      0|                None|  0|              false|                           false|                    false|                 false|                   0|            0|                None|              latest|                true|None|     false|     0|            0.0|       0.0|        0.0|      0.0|\n",
      "|      false|  false|  false|                          false|                      0|                None|  0|              false|                           false|                    false|                 false|                   0|            0|                None|              latest|                true|None|     false|     1|            0.0|       0.0|        0.0|      0.0|\n",
      "|      false|  false|  false|                          false|                      0|                None|  0|              false|                           false|                    false|                 false|                   0|            0|                None|              latest|                true|None|     false|     1|            0.0|       0.0|        0.0|      0.0|\n",
      "|      false|  false|  false|                          false|                      0|                None|  0|              false|                           false|                    false|                 false|                   0|           80|                None|              latest|                true|None|     false|     0|            0.0|       0.0|        0.0|      0.0|\n",
      "|      false|  false|  false|                          false|                      0|                None|  0|              false|                           false|                    false|                 false|                   0|            0|                None|              latest|                true|None|     false|     0|            0.0|       0.0|        0.0|      0.0|\n",
      "|      false|  false|  false|                          false|                      0|                None|  0|              false|                           false|                    false|                 false|                   0|            0|                None|              latest|                true|None|     false|     1|            0.0|       0.0|        0.0|      0.0|\n",
      "|      false|  false|  false|                          false|                      0|                None|  0|              false|                            true|                    false|                 false|                   0|            0| ||DEPLOYMENTIMAGE||| ||DEPLOYMENTIMAGE|||                true|None|      true|     0|          208.0|       0.0|      231.0|      0.0|\n",
      "|      false|  false|  false|                          false|                      0|                None|  0|              false|                           false|                    false|                 false|                   0|         8080|gcr.io/k8s-stagin...|   v20200819-984516e|                true|None|      true|     0|          178.0|       0.0|       94.0|      0.0|\n",
      "|      false|  false|  false|                          false|                      0|                None|  0|              false|                           false|                    false|                 false|                   0|            0|gcr.io/k8s-prow/s...|v20210414-378dc3ffc3|                true|None|     false|     1|          180.0|       0.0|        8.0|      0.0|\n",
      "|      false|  false|  false|                          false|                      0|                None|  0|              false|                           false|                    false|                 false|                   0|            0|                None|              latest|                true|None|     false|     1|            0.0|       0.0|        0.0|      0.0|\n",
      "|      false|  false|  false|                          false|                      0|                None|  0|              false|                           false|                    false|                 false|                   0|            0|                None|              latest|                true|None|     false|     1|            0.0|       0.0|        0.0|      0.0|\n",
      "|      false|  false|  false|                          false|                      0|                None|  0|              false|                           false|                    false|                 false|                   0|         8080|                None|              latest|                true|None|     false|     0|            0.0|       0.0|        0.0|      0.0|\n",
      "|      false|  false|  false|                          false|                      0|                None|  0|              false|                           false|                    false|                 false|                   0|            0|                None|              latest|                true|None|     false|     0|            0.0|       0.0|        0.0|      0.0|\n",
      "|      false|  false|  false|                          false|                      0|\"{{ .Values.basic...|  0|              false|                           false|                    false|                 false|                   0|            0|                None|              latest|                true|None|     false|     1|            0.0|       1.0|        0.0|      0.0|\n",
      "|      false|  false|  false|                          false|                      0|                None|  0|              false|                           false|                    false|                 false|                   0|            0|                None|              latest|                true|None|     false|     0|            0.0|       0.0|        0.0|      0.0|\n",
      "|      false|  false|  false|                          false|                      0|                None|  0|              false|                           false|                    false|                 false|                   0|            0|              alpine|              latest|                true|None|     false|     1|            0.0|       0.0|        9.0|      0.0|\n",
      "|      false|  false|  false|                          false|                      0|                None|  0|              false|                           false|                    false|                 false|                   0|            0|                None|              latest|                true|None|     false|     1|            0.0|       0.0|        0.0|      0.0|\n",
      "|      false|  false|  false|                          false|                      0|                None|  0|              false|                           false|                    false|                 false|                   0|            0|gcr.io/k8s-prow/p...|v20210525-8b942ff77a|                true|None|     false|     1|          184.0|       0.0|       91.0|      0.0|\n",
      "+-----------+-------+-------+-------------------------------+-----------------------+--------------------+---+-------------------+--------------------------------+-------------------------+----------------------+--------------------+-------------+--------------------+--------------------+--------------------+----+----------+------+---------------+----------+-----------+---------+\n",
      "only showing top 20 rows\n",
      "\n"
     ]
    }
   ],
   "source": [
    "df.show()"
   ]
  },
  {
   "cell_type": "code",
   "execution_count": 13,
   "metadata": {},
   "outputs": [
    {
     "name": "stdout",
     "output_type": "stream",
     "text": [
      "+-----------+-------+-------+-------------------------------+-----------------------+--------------------+---+-------------------+--------------------------------+-------------------------+----------------------+--------------------+-------------+--------------------+--------------------+--------------------+----+----------+------+---------------+----------+-----------+---------+--------------------+\n",
      "|hostNetwork|hostPID|hostIPC|has_privileged_security_context|count_of_dangerous_caps|                user|UID|has_mounted_secrets|has_secret_environment_variables|read_only_root_fs_checker|has_dangerous_commands|count_dangerous_dirs|exposed_ports|               image|                 tag|has_wide_permissions| qos|has_probes|result|image_tag_index|user_index|image_index|qos_index|            features|\n",
      "+-----------+-------+-------+-------------------------------+-----------------------+--------------------+---+-------------------+--------------------------------+-------------------------+----------------------+--------------------+-------------+--------------------+--------------------+--------------------+----+----------+------+---------------+----------+-----------+---------+--------------------+\n",
      "|      false|  false|  false|                          false|                      0|                None|  0|              false|                           false|                    false|                 false|                   0|            0|                None|              latest|                true|None|     false|     1|            0.0|       0.0|        0.0|      0.0|     (18,[15],[1.0])|\n",
      "|      false|  false|  false|                          false|                      0|                None|  0|              false|                           false|                    false|                 false|                   0|           80|                None|              latest|                true|None|     false|     0|            0.0|       0.0|        0.0|      0.0|(18,[12,15],[80.0...|\n",
      "|      false|  false|  false|                          false|                      0|                None|  0|              false|                           false|                    false|                 false|                   0|            0|                None|              latest|                true|None|     false|     0|            0.0|       0.0|        0.0|      0.0|     (18,[15],[1.0])|\n",
      "|      false|  false|  false|                          false|                      0|                None|  0|              false|                           false|                    false|                 false|                   0|            0|                None|              latest|                true|None|     false|     1|            0.0|       0.0|        0.0|      0.0|     (18,[15],[1.0])|\n",
      "|      false|  false|  false|                          false|                      0|                None|  0|              false|                           false|                    false|                 false|                   0|            0|                None|              latest|                true|None|     false|     1|            0.0|       0.0|        0.0|      0.0|     (18,[15],[1.0])|\n",
      "|      false|  false|  false|                          false|                      0|                None|  0|              false|                           false|                    false|                 false|                   0|           80|                None|              latest|                true|None|     false|     0|            0.0|       0.0|        0.0|      0.0|(18,[12,15],[80.0...|\n",
      "|      false|  false|  false|                          false|                      0|                None|  0|              false|                           false|                    false|                 false|                   0|            0|                None|              latest|                true|None|     false|     0|            0.0|       0.0|        0.0|      0.0|     (18,[15],[1.0])|\n",
      "|      false|  false|  false|                          false|                      0|                None|  0|              false|                           false|                    false|                 false|                   0|            0|                None|              latest|                true|None|     false|     1|            0.0|       0.0|        0.0|      0.0|     (18,[15],[1.0])|\n",
      "|      false|  false|  false|                          false|                      0|                None|  0|              false|                            true|                    false|                 false|                   0|            0| ||DEPLOYMENTIMAGE||| ||DEPLOYMENTIMAGE|||                true|None|      true|     0|          208.0|       0.0|      231.0|      0.0|(18,[8,13,14,15,1...|\n",
      "|      false|  false|  false|                          false|                      0|                None|  0|              false|                           false|                    false|                 false|                   0|         8080|gcr.io/k8s-stagin...|   v20200819-984516e|                true|None|      true|     0|          178.0|       0.0|       94.0|      0.0|(18,[12,13,14,15,...|\n",
      "|      false|  false|  false|                          false|                      0|                None|  0|              false|                           false|                    false|                 false|                   0|            0|gcr.io/k8s-prow/s...|v20210414-378dc3ffc3|                true|None|     false|     1|          180.0|       0.0|        8.0|      0.0|(18,[13,14,15],[8...|\n",
      "|      false|  false|  false|                          false|                      0|                None|  0|              false|                           false|                    false|                 false|                   0|            0|                None|              latest|                true|None|     false|     1|            0.0|       0.0|        0.0|      0.0|     (18,[15],[1.0])|\n",
      "|      false|  false|  false|                          false|                      0|                None|  0|              false|                           false|                    false|                 false|                   0|            0|                None|              latest|                true|None|     false|     1|            0.0|       0.0|        0.0|      0.0|     (18,[15],[1.0])|\n",
      "|      false|  false|  false|                          false|                      0|                None|  0|              false|                           false|                    false|                 false|                   0|         8080|                None|              latest|                true|None|     false|     0|            0.0|       0.0|        0.0|      0.0|(18,[12,15],[8080...|\n",
      "|      false|  false|  false|                          false|                      0|                None|  0|              false|                           false|                    false|                 false|                   0|            0|                None|              latest|                true|None|     false|     0|            0.0|       0.0|        0.0|      0.0|     (18,[15],[1.0])|\n",
      "|      false|  false|  false|                          false|                      0|\"{{ .Values.basic...|  0|              false|                           false|                    false|                 false|                   0|            0|                None|              latest|                true|None|     false|     1|            0.0|       1.0|        0.0|      0.0|(18,[5,15],[1.0,1...|\n",
      "|      false|  false|  false|                          false|                      0|                None|  0|              false|                           false|                    false|                 false|                   0|            0|                None|              latest|                true|None|     false|     0|            0.0|       0.0|        0.0|      0.0|     (18,[15],[1.0])|\n",
      "|      false|  false|  false|                          false|                      0|                None|  0|              false|                           false|                    false|                 false|                   0|            0|              alpine|              latest|                true|None|     false|     1|            0.0|       0.0|        9.0|      0.0|(18,[13,15],[9.0,...|\n",
      "|      false|  false|  false|                          false|                      0|                None|  0|              false|                           false|                    false|                 false|                   0|            0|                None|              latest|                true|None|     false|     1|            0.0|       0.0|        0.0|      0.0|     (18,[15],[1.0])|\n",
      "|      false|  false|  false|                          false|                      0|                None|  0|              false|                           false|                    false|                 false|                   0|            0|gcr.io/k8s-prow/p...|v20210525-8b942ff77a|                true|None|     false|     1|          184.0|       0.0|       91.0|      0.0|(18,[13,14,15],[9...|\n",
      "+-----------+-------+-------+-------------------------------+-----------------------+--------------------+---+-------------------+--------------------------------+-------------------------+----------------------+--------------------+-------------+--------------------+--------------------+--------------------+----+----------+------+---------------+----------+-----------+---------+--------------------+\n",
      "only showing top 20 rows\n",
      "\n"
     ]
    },
    {
     "name": "stderr",
     "output_type": "stream",
     "text": [
      "24/05/12 22:35:15 WARN package: Truncated the string representation of a plan since it was too large. This behavior can be adjusted by setting 'spark.sql.debug.maxToStringFields'.\n"
     ]
    }
   ],
   "source": [
    "feature = VectorAssembler(\n",
    "    inputCols=[\"hostNetwork\", \n",
    "                             \"hostPID\", \n",
    "                             \"hostIPC\", \n",
    "                             \"has_privileged_security_context\",\n",
    "                             \"count_of_dangerous_caps\",\n",
    "                             \"user_index\",\n",
    "                             \"UID\",\n",
    "                             \"has_mounted_secrets\",\n",
    "                             \"has_secret_environment_variables\",\n",
    "                             \"read_only_root_fs_checker\",\n",
    "                             \"has_dangerous_commands\",\n",
    "                             \"count_dangerous_dirs\",\n",
    "                             \"exposed_ports\",\n",
    "                             \"image_index\",\n",
    "                             \"image_tag_index\",\n",
    "                             \"has_wide_permissions\",\n",
    "                             \"qos_index\",\n",
    "                             \"has_probes\"],\n",
    "    outputCol=\"features\")\n",
    "feature_vector= feature.transform(df)\n",
    "feature_vector.show()"
   ]
  },
  {
   "cell_type": "code",
   "execution_count": 14,
   "metadata": {},
   "outputs": [
    {
     "name": "stdout",
     "output_type": "stream",
     "text": [
      "+-----------+-------+-------+-------------------------------+-----------------------+---------------------+---+-------------------+--------------------------------+-------------------------+----------------------+--------------------+-------------+--------------------+------+--------------------+----+----------+------+---------------+----------+-----------+---------+--------------------+\n",
      "|hostNetwork|hostPID|hostIPC|has_privileged_security_context|count_of_dangerous_caps|                 user|UID|has_mounted_secrets|has_secret_environment_variables|read_only_root_fs_checker|has_dangerous_commands|count_dangerous_dirs|exposed_ports|               image|   tag|has_wide_permissions| qos|has_probes|result|image_tag_index|user_index|image_index|qos_index|            features|\n",
      "+-----------+-------+-------+-------------------------------+-----------------------+---------------------+---+-------------------+--------------------------------+-------------------------+----------------------+--------------------+-------------+--------------------+------+--------------------+----+----------+------+---------------+----------+-----------+---------+--------------------+\n",
      "|      false|  false|  false|                          false|                      0| \"{{ .Values.basic...|  0|              false|                           false|                    false|                 false|                   0|            0|                None|latest|                true|None|     false|     1|            0.0|       1.0|        0.0|      0.0|(18,[5,15],[1.0,1...|\n",
      "|      false|  false|  false|                          false|                      0|Changyu Seon (선...|  0|              false|                           false|                    false|                 false|                   0|         9898|stefanprodan/podinfo| 1.4.1|                true|None|      true|     0|           54.0|       2.0|       14.0|      0.0|(18,[5,12,13,14,1...|\n",
      "|      false|  false|  false|                          false|                      0|                 None|  0|              false|                           false|                    false|                 false|                   0|            0|    3davinci/tinyweb|   0.1|                true|None|      true|     0|           12.0|       0.0|       26.0|      0.0|(18,[13,14,15,17]...|\n",
      "|      false|  false|  false|                          false|                      0|                 None|  0|              false|                           false|                    false|                 false|                   0|            0|               IMAGE| IMAGE|                true|None|     false|     1|           90.0|       0.0|       31.0|      0.0|(18,[13,14,15],[3...|\n",
      "|      false|  false|  false|                          false|                      0|                 None|  0|              false|                           false|                    false|                 false|                   0|            0|                None|latest|                true|None|     false|     0|            0.0|       0.0|        0.0|      0.0|     (18,[15],[1.0])|\n",
      "|      false|  false|  false|                          false|                      0|                 None|  0|              false|                           false|                    false|                 false|                   0|            0|                None|latest|                true|None|     false|     0|            0.0|       0.0|        0.0|      0.0|     (18,[15],[1.0])|\n",
      "|      false|  false|  false|                          false|                      0|                 None|  0|              false|                           false|                    false|                 false|                   0|            0|                None|latest|                true|None|     false|     0|            0.0|       0.0|        0.0|      0.0|     (18,[15],[1.0])|\n",
      "|      false|  false|  false|                          false|                      0|                 None|  0|              false|                           false|                    false|                 false|                   0|            0|                None|latest|                true|None|     false|     0|            0.0|       0.0|        0.0|      0.0|     (18,[15],[1.0])|\n",
      "|      false|  false|  false|                          false|                      0|                 None|  0|              false|                           false|                    false|                 false|                   0|            0|                None|latest|                true|None|     false|     0|            0.0|       0.0|        0.0|      0.0|     (18,[15],[1.0])|\n",
      "|      false|  false|  false|                          false|                      0|                 None|  0|              false|                           false|                    false|                 false|                   0|            0|                None|latest|                true|None|     false|     0|            0.0|       0.0|        0.0|      0.0|     (18,[15],[1.0])|\n",
      "|      false|  false|  false|                          false|                      0|                 None|  0|              false|                           false|                    false|                 false|                   0|            0|                None|latest|                true|None|     false|     0|            0.0|       0.0|        0.0|      0.0|     (18,[15],[1.0])|\n",
      "|      false|  false|  false|                          false|                      0|                 None|  0|              false|                           false|                    false|                 false|                   0|            0|                None|latest|                true|None|     false|     0|            0.0|       0.0|        0.0|      0.0|     (18,[15],[1.0])|\n",
      "|      false|  false|  false|                          false|                      0|                 None|  0|              false|                           false|                    false|                 false|                   0|            0|                None|latest|                true|None|     false|     0|            0.0|       0.0|        0.0|      0.0|     (18,[15],[1.0])|\n",
      "|      false|  false|  false|                          false|                      0|                 None|  0|              false|                           false|                    false|                 false|                   0|            0|                None|latest|                true|None|     false|     0|            0.0|       0.0|        0.0|      0.0|     (18,[15],[1.0])|\n",
      "|      false|  false|  false|                          false|                      0|                 None|  0|              false|                           false|                    false|                 false|                   0|            0|                None|latest|                true|None|     false|     0|            0.0|       0.0|        0.0|      0.0|     (18,[15],[1.0])|\n",
      "|      false|  false|  false|                          false|                      0|                 None|  0|              false|                           false|                    false|                 false|                   0|            0|                None|latest|                true|None|     false|     0|            0.0|       0.0|        0.0|      0.0|     (18,[15],[1.0])|\n",
      "|      false|  false|  false|                          false|                      0|                 None|  0|              false|                           false|                    false|                 false|                   0|            0|                None|latest|                true|None|     false|     0|            0.0|       0.0|        0.0|      0.0|     (18,[15],[1.0])|\n",
      "|      false|  false|  false|                          false|                      0|                 None|  0|              false|                           false|                    false|                 false|                   0|            0|                None|latest|                true|None|     false|     0|            0.0|       0.0|        0.0|      0.0|     (18,[15],[1.0])|\n",
      "|      false|  false|  false|                          false|                      0|                 None|  0|              false|                           false|                    false|                 false|                   0|            0|                None|latest|                true|None|     false|     0|            0.0|       0.0|        0.0|      0.0|     (18,[15],[1.0])|\n",
      "|      false|  false|  false|                          false|                      0|                 None|  0|              false|                           false|                    false|                 false|                   0|            0|                None|latest|                true|None|     false|     0|            0.0|       0.0|        0.0|      0.0|     (18,[15],[1.0])|\n",
      "+-----------+-------+-------+-------------------------------+-----------------------+---------------------+---+-------------------+--------------------------------+-------------------------+----------------------+--------------------+-------------+--------------------+------+--------------------+----+----------+------+---------------+----------+-----------+---------+--------------------+\n",
      "only showing top 20 rows\n",
      "\n"
     ]
    }
   ],
   "source": [
    "(training_data, test_data) = feature_vector.randomSplit([0.8, 0.2],seed = 42)\n",
    "training_data.show()"
   ]
  },
  {
   "cell_type": "code",
   "execution_count": 15,
   "metadata": {},
   "outputs": [
    {
     "name": "stderr",
     "output_type": "stream",
     "text": [
      "24/05/12 22:41:27 WARN BLAS: Failed to load implementation from: com.github.fommil.netlib.NativeSystemBLAS\n",
      "24/05/12 22:41:27 WARN BLAS: Failed to load implementation from: com.github.fommil.netlib.NativeRefBLAS\n"
     ]
    },
    {
     "name": "stdout",
     "output_type": "stream",
     "text": [
      "+----------+------+--------------------+\n",
      "|prediction|result|            features|\n",
      "+----------+------+--------------------+\n",
      "|       1.0|     1|(18,[13,14,15],[2...|\n",
      "|       1.0|     0|     (18,[15],[1.0])|\n",
      "|       1.0|     0|     (18,[15],[1.0])|\n",
      "|       1.0|     0|     (18,[15],[1.0])|\n",
      "|       1.0|     0|     (18,[15],[1.0])|\n",
      "+----------+------+--------------------+\n",
      "only showing top 5 rows\n",
      "\n",
      "LogisticRegression [Accuracy] = 0.792683\n",
      "LogisticRegression [Error] = 0.207317 \n"
     ]
    }
   ],
   "source": [
    "#LogisticRegression\n",
    "\n",
    "evaluator = MulticlassClassificationEvaluator(\n",
    "    labelCol=\"result\", predictionCol=\"prediction\", metricName=\"accuracy\"\n",
    ")\n",
    "from pyspark.ml.classification import LogisticRegression\n",
    "# создаем модель и указываем целевую колонку и колонку с эмбэддингами\n",
    "lr = LogisticRegression(labelCol=\"result\", featuresCol=\"features\")\n",
    "\n",
    "# обучаем модель на тренировочных данных\n",
    "lrModel = lr.fit(training_data)     # lr - эстиматор, lrModel - трансформер\n",
    "# применим модель на тестовых данных, получим предсказания\n",
    "lr_prediction = lrModel.transform(test_data)\n",
    "lr_prediction.select(\"prediction\", \"result\", \"features\").show(5)\n",
    "\n",
    "lr_accuracy = evaluator.evaluate(lr_prediction)\n",
    "print(\"LogisticRegression [Accuracy] = %g\"% (lr_accuracy))\n",
    "print(\"LogisticRegression [Error] = %g \" % (1.0 - lr_accuracy))\n"
   ]
  },
  {
   "cell_type": "code",
   "execution_count": 16,
   "metadata": {},
   "outputs": [
    {
     "name": "stderr",
     "output_type": "stream",
     "text": [
      "24/05/12 22:41:33 WARN DecisionTreeMetadata: DecisionTree reducing maxBins from 16000 to 840 (= number of training instances)\n"
     ]
    },
    {
     "name": "stdout",
     "output_type": "stream",
     "text": [
      "+----------+------+--------------------+\n",
      "|prediction|result|            features|\n",
      "+----------+------+--------------------+\n",
      "|       1.0|     1|(18,[5,15],[1.0,1...|\n",
      "|       0.0|     0|(18,[5,12,13,14,1...|\n",
      "|       0.0|     0|(18,[13,14,15,17]...|\n",
      "|       1.0|     1|(18,[13,14,15],[3...|\n",
      "|       1.0|     0|     (18,[15],[1.0])|\n",
      "+----------+------+--------------------+\n",
      "only showing top 5 rows\n",
      "\n",
      "DecisionTreeClassifier [Accuracy] = 0.914551\n",
      "DecisionTreeClassifier [Error] = 0.0854494\n"
     ]
    }
   ],
   "source": [
    "#DecisionTreeClassifier\n",
    "\n",
    "from pyspark.ml.classification import DecisionTreeClassifier\n",
    "dt = DecisionTreeClassifier(labelCol=\"result\", featuresCol=\"features\", maxBins=16000)\n",
    "dt_model = dt.fit(training_data)\n",
    "dt_prediction = dt_model.transform(training_data)\n",
    "\n",
    "dt_prediction.select(\"prediction\", \"result\", \"features\").show(5)\n",
    "\n",
    "\n",
    "# Create a MulticlassClassificationEvaluator\n",
    "evaluator = MulticlassClassificationEvaluator(labelCol=\"result\", predictionCol=\"prediction\")\n",
    "\n",
    "# Calculate the accuracy of the model\n",
    "accuracy = evaluator.evaluate(dt_prediction)\n",
    "\n",
    "# Calculate the error of the model\n",
    "error = 1.0 - accuracy\n",
    "\n",
    "print(\"DecisionTreeClassifier [Accuracy] = %g\" % (accuracy))\n",
    "print(\"DecisionTreeClassifier [Error] = %g\" % (error))"
   ]
  },
  {
   "cell_type": "code",
   "execution_count": 17,
   "metadata": {},
   "outputs": [
    {
     "name": "stderr",
     "output_type": "stream",
     "text": [
      "24/05/12 22:41:39 WARN DecisionTreeMetadata: DecisionTree reducing maxBins from 16000 to 840 (= number of training instances)\n"
     ]
    },
    {
     "name": "stdout",
     "output_type": "stream",
     "text": [
      "+----------+------+--------------------+\n",
      "|prediction|result|            features|\n",
      "+----------+------+--------------------+\n",
      "|       1.0|     1|(18,[13,14,15],[2...|\n",
      "|       1.0|     0|     (18,[15],[1.0])|\n",
      "|       1.0|     0|     (18,[15],[1.0])|\n",
      "|       1.0|     0|     (18,[15],[1.0])|\n",
      "|       1.0|     0|     (18,[15],[1.0])|\n",
      "+----------+------+--------------------+\n",
      "only showing top 5 rows\n",
      "\n",
      "RandomForestClassifier [Accuracy] = 0.770975\n",
      "RandomForestClassifier [Error] = 0.229025\n"
     ]
    }
   ],
   "source": [
    "#RandomForestClassifier\n",
    "\n",
    "from pyspark.ml.classification import RandomForestClassifier\n",
    "rf = RandomForestClassifier(labelCol=\"result\", featuresCol=\"features\", maxBins=16000)\n",
    "rf_model = rf.fit(training_data)\n",
    "rf_prediction = rf_model.transform(test_data)\n",
    "rf_prediction.select(\"prediction\", \"result\", \"features\").show(5)\n",
    "\n",
    "\n",
    "rf_accuracy = evaluator.evaluate(rf_prediction)\n",
    "print(\"RandomForestClassifier [Accuracy] = %g\"% (rf_accuracy))\n",
    "print(\"RandomForestClassifier [Error] = %g\" % (1.0 - rf_accuracy))\n"
   ]
  },
  {
   "cell_type": "code",
   "execution_count": 18,
   "metadata": {},
   "outputs": [
    {
     "name": "stderr",
     "output_type": "stream",
     "text": [
      "24/05/12 22:41:42 WARN DecisionTreeMetadata: DecisionTree reducing maxBins from 16000 to 840 (= number of training instances)\n"
     ]
    },
    {
     "name": "stdout",
     "output_type": "stream",
     "text": [
      "+----------+------+--------------------+\n",
      "|prediction|result|            features|\n",
      "+----------+------+--------------------+\n",
      "|       1.0|     1|(18,[13,14,15],[2...|\n",
      "|       1.0|     0|     (18,[15],[1.0])|\n",
      "|       1.0|     0|     (18,[15],[1.0])|\n",
      "|       1.0|     0|     (18,[15],[1.0])|\n",
      "|       1.0|     0|     (18,[15],[1.0])|\n",
      "+----------+------+--------------------+\n",
      "only showing top 5 rows\n",
      "\n",
      "Gradient-boosted [Accuracy] = 0.713836\n",
      "Gradient-boosted [Error] = 0.286164\n"
     ]
    }
   ],
   "source": [
    "#Gradient-boosted tree classifier\n",
    "\n",
    "from pyspark.ml.classification import GBTClassifier\n",
    "gbt = GBTClassifier(labelCol=\"result\", featuresCol=\"features\",maxIter=10,maxBins=16000)\n",
    "gbt_model = gbt.fit(training_data)\n",
    "gbt_prediction = gbt_model.transform(test_data)\n",
    "gbt_prediction.select(\"prediction\", \"result\", \"features\").show(5)\n",
    "\n",
    "gbt_accuracy = evaluator.evaluate(gbt_prediction)\n",
    "print(\"Gradient-boosted [Accuracy] = %g\"% (gbt_accuracy))\n",
    "print(\"Gradient-boosted [Error] = %g\"% (1.0 - gbt_accuracy))\n"
   ]
  },
  {
   "cell_type": "code",
   "execution_count": 19,
   "metadata": {},
   "outputs": [
    {
     "name": "stderr",
     "output_type": "stream",
     "text": [
      "24/05/12 22:41:50 WARN MemoryManager: Total allocation exceeds 95,00% (1 020 054 720 bytes) of heap memory\n",
      "Scaling row group sizes to 95,00% for 8 writers\n"
     ]
    }
   ],
   "source": [
    "#Save model\n",
    "\n",
    "dt_model.write().overwrite().save('dt_model')\n"
   ]
  },
  {
   "cell_type": "code",
   "execution_count": 23,
   "metadata": {},
   "outputs": [
    {
     "name": "stdout",
     "output_type": "stream",
     "text": [
      "Pipeline model [Accuracy] = 0.88\n",
      "Pipeline model [Error] = 0.12 \n"
     ]
    }
   ],
   "source": [
    "#Pipeline\n",
    "\n",
    "from pyspark.ml.pipeline import PipelineModel\n",
    "\n",
    "df_pipe = spark.read.parquet('../part.0.parquet')\n",
    "\n",
    "train, test = df_pipe.randomSplit([0.8, 0.2])\n",
    "\n",
    "\n",
    "tag_index = StringIndexer(inputCol='tag', outputCol=\"image_tag_index\", handleInvalid=\"skip\")\n",
    "user_index = StringIndexer(inputCol='user', outputCol=\"user_index\", handleInvalid=\"skip\")\n",
    "image_index = StringIndexer(inputCol='image', outputCol=\"image_index\", handleInvalid=\"skip\")\n",
    "qos_index = StringIndexer(inputCol='qos', outputCol=\"qos_index\", handleInvalid=\"skip\")\n",
    "\n",
    "feature = VectorAssembler(\n",
    "    inputCols=[\"hostNetwork\", \n",
    "                             \"hostPID\", \n",
    "                             \"hostIPC\", \n",
    "                             \"has_privileged_security_context\",\n",
    "                             \"count_of_dangerous_caps\",\n",
    "                             \"user_index\",\n",
    "                             \"UID\",\n",
    "                             \"has_mounted_secrets\",\n",
    "                             \"has_secret_environment_variables\",\n",
    "                             \"read_only_root_fs_checker\",\n",
    "                             \"has_dangerous_commands\",\n",
    "                             \"count_dangerous_dirs\",\n",
    "                             \"exposed_ports\",\n",
    "                             \"image_index\",\n",
    "                             \"image_tag_index\",\n",
    "                             \"has_wide_permissions\",\n",
    "                             \"qos_index\",\n",
    "                             \"has_probes\"],\n",
    "    outputCol=\"features\")\n",
    "\n",
    "\n",
    "dt_classifier = DecisionTreeClassifier(labelCol=\"result\", featuresCol=\"features\", maxBins=200)\n",
    "\n",
    "pipeline = Pipeline(stages=[tag_index, user_index, image_index, qos_index, feature, dt_classifier])\n",
    "\n",
    "p_model = pipeline.fit(train)\n",
    "\n",
    "p_model.write().overwrite().save('p_model')\n",
    "model = PipelineModel.load('p_model')\n",
    "\n",
    "\n",
    "evaluator = MulticlassClassificationEvaluator(\n",
    "    labelCol=\"result\", predictionCol=\"prediction\", metricName=\"accuracy\"\n",
    ")\n",
    "\n",
    "prediction = p_model.transform(test)\n",
    "# test.show(10)\n",
    "p_accuracy = evaluator.evaluate(prediction)\n",
    "print(\"Pipeline model [Accuracy] = %g\"% (p_accuracy))\n",
    "print(\"Pipeline model [Error] = %g \" % (1.0 - p_accuracy))\n"
   ]
  },
  {
   "cell_type": "code",
   "execution_count": 24,
   "metadata": {},
   "outputs": [
    {
     "name": "stdout",
     "output_type": "stream",
     "text": [
      "Best model hyperparameters:\n",
      "maxDepth: 2\n",
      "maxBins: 200\n",
      "minInfoGain: 0.05\n",
      "Best model accuracy: 0.8866666666666667\n",
      "Best model error: 0.11333333333333329\n"
     ]
    }
   ],
   "source": [
    "#Hyperparams\n",
    "\n",
    "from pyspark.ml.tuning import ParamGridBuilder, TrainValidationSplit\n",
    "\n",
    "paramGrid = ParamGridBuilder() \\\n",
    "   .addGrid(dt_classifier.maxDepth, [2, 3, 4]) \\\n",
    "   .addGrid(dt_classifier.minInfoGain, [0.05, 0.1, 0.15]) \\\n",
    "   .build()\n",
    "\n",
    "tvs = TrainValidationSplit(estimator=pipeline,\n",
    "                            estimatorParamMaps=paramGrid,\n",
    "                            evaluator=evaluator,\n",
    "                            trainRatio=0.8)\n",
    "model = tvs.fit(train)\n",
    "\n",
    "best_model = model.bestModel\n",
    "print(\"Best model hyperparameters:\")\n",
    "print(\"maxDepth:\", best_model.stages[-1].getOrDefault(\"maxDepth\"))\n",
    "print(\"maxBins:\", best_model.stages[-1].getOrDefault(\"maxBins\"))\n",
    "print(\"minInfoGain:\", best_model.stages[-1].getOrDefault(\"minInfoGain\"))\n",
    "\n",
    "prediction = best_model.transform(test)\n",
    "accuracy = evaluator.evaluate(prediction)\n",
    "error = 1.0 - accuracy\n",
    "print(\"Best model accuracy:\", accuracy)\n",
    "print(\"Best model error:\", error)"
   ]
  }
 ],
 "metadata": {
  "kernelspec": {
   "display_name": "Python 3 (ipykernel)",
   "language": "python",
   "name": "python3"
  },
  "language_info": {
   "codemirror_mode": {
    "name": "ipython",
    "version": 3
   },
   "file_extension": ".py",
   "mimetype": "text/x-python",
   "name": "python",
   "nbconvert_exporter": "python",
   "pygments_lexer": "ipython3",
   "version": "3.9.6"
  }
 },
 "nbformat": 4,
 "nbformat_minor": 4
}
